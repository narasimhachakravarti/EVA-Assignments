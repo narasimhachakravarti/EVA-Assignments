{
  "nbformat": 4,
  "nbformat_minor": 0,
  "metadata": {
    "colab": {
      "name": "Mr_Vishal_EVA4_Session_2.ipynb",
      "provenance": []
    },
    "kernelspec": {
      "name": "python3",
      "display_name": "Python 3"
    },
    "accelerator": "GPU"
  },
  "cells": [
    {
      "cell_type": "code",
      "metadata": {
        "id": "0m2JWFliFfKT",
        "colab_type": "code",
        "colab": {}
      },
      "source": [
        "from __future__ import print_function\n",
        "import torch\n",
        "import torch.nn as nn\n",
        "import torch.nn.functional as F\n",
        "import torch.optim as optim\n",
        "from torchvision import datasets, transforms"
      ],
      "execution_count": 0,
      "outputs": []
    },
    {
      "cell_type": "code",
      "metadata": {
        "id": "h_Cx9q2QFgM7",
        "colab_type": "code",
        "colab": {}
      },
      "source": [
        "class Net(nn.Module):\n",
        "    def __init__(self):\n",
        "        super(Net, self).__init__()\n",
        "        self.conv1 = nn.Conv2d(1, 8, 3, padding=1)\n",
        "        self.batch1 = nn.BatchNorm2d(num_features = 8)\n",
        "        self.conv2 = nn.Conv2d(8, 8, 3, padding=1)\n",
        "        self.batch2 = nn.BatchNorm2d(num_features = 8)\n",
        "        self.drop1 = nn.Dropout2d(0.2)\n",
        "        self.pool1 = nn.MaxPool2d(2, 2)\n",
        "        self.conv3 = nn.Conv2d(8, 20, 3, padding=1)\n",
        "        self.batch3 = nn.BatchNorm2d(num_features = 20)\n",
        "        self.conv4 = nn.Conv2d(20, 20, 3, padding=1)\n",
        "        self.batch4 = nn.BatchNorm2d(num_features = 20)\n",
        "        self.drop2 = nn.Dropout2d(0.2)\n",
        "        self.pool2 = nn.MaxPool2d(2, 2)\n",
        "        self.conv5 = nn.Conv2d(20, 20, 3)\n",
        "        self.batch5 = nn.BatchNorm2d(num_features = 20)\n",
        "        self.conv6 = nn.Conv2d(20, 32, 3)\n",
        "        self.conv7 = nn.Conv2d(32, 10, 3)\n",
        "\n",
        "    def forward(self, x):\n",
        "        x = self.batch1(F.relu(self.conv1(x)))\n",
        "        x = self.batch2(F.relu(self.conv2(x)))\n",
        "        x = self.drop1(self.pool1(x))\n",
        "        x = self.batch3(F.relu(self.conv3(x)))\n",
        "        x = self.batch4(F.relu(self.conv4(x)))\n",
        "        x = self.drop2(self.pool2(x))\n",
        "        x = self.batch5(F.relu(self.conv5(x)))\n",
        "        x = F.relu(self.conv6(x))\n",
        "        x = self.conv7(x)\n",
        "        # x = self.pool1(F.relu(self.conv2(F.relu(self.conv1(x)))))\n",
        "        # x = self.pool2(F.relu(self.conv4(F.relu(self.conv3(x)))))\n",
        "        # x = F.relu(self.conv6(F.relu(self.conv5(x))))\n",
        "        # x = F.relu(self.conv7(x))\n",
        "        x = x.view(-1, 10)\n",
        "        return F.log_softmax(x)"
      ],
      "execution_count": 0,
      "outputs": []
    },
    {
      "cell_type": "code",
      "metadata": {
        "colab_type": "code",
        "id": "xdydjYTZFyi3",
        "outputId": "c662003d-1067-4cae-d72a-d26ed645da07",
        "colab": {
          "base_uri": "https://localhost:8080/",
          "height": 564
        }
      },
      "source": [
        "!pip install torchsummary\n",
        "from torchsummary import summary\n",
        "use_cuda = torch.cuda.is_available()\n",
        "device = torch.device(\"cuda\" if use_cuda else \"cpu\")\n",
        "model = Net().to(device)\n",
        "summary(model, input_size=(1, 28, 28))"
      ],
      "execution_count": 77,
      "outputs": [
        {
          "output_type": "stream",
          "text": [
            "Requirement already satisfied: torchsummary in /usr/local/lib/python3.6/dist-packages (1.5.1)\n",
            "----------------------------------------------------------------\n",
            "        Layer (type)               Output Shape         Param #\n",
            "================================================================\n",
            "            Conv2d-1            [-1, 8, 28, 28]              80\n",
            "       BatchNorm2d-2            [-1, 8, 28, 28]              16\n",
            "            Conv2d-3            [-1, 8, 28, 28]             584\n",
            "       BatchNorm2d-4            [-1, 8, 28, 28]              16\n",
            "         MaxPool2d-5            [-1, 8, 14, 14]               0\n",
            "         Dropout2d-6            [-1, 8, 14, 14]               0\n",
            "            Conv2d-7           [-1, 20, 14, 14]           1,460\n",
            "       BatchNorm2d-8           [-1, 20, 14, 14]              40\n",
            "            Conv2d-9           [-1, 20, 14, 14]           3,620\n",
            "      BatchNorm2d-10           [-1, 20, 14, 14]              40\n",
            "        MaxPool2d-11             [-1, 20, 7, 7]               0\n",
            "        Dropout2d-12             [-1, 20, 7, 7]               0\n",
            "           Conv2d-13             [-1, 20, 5, 5]           3,620\n",
            "      BatchNorm2d-14             [-1, 20, 5, 5]              40\n",
            "           Conv2d-15             [-1, 32, 3, 3]           5,792\n",
            "           Conv2d-16             [-1, 10, 1, 1]           2,890\n",
            "================================================================\n",
            "Total params: 18,198\n",
            "Trainable params: 18,198\n",
            "Non-trainable params: 0\n",
            "----------------------------------------------------------------\n",
            "Input size (MB): 0.00\n",
            "Forward/backward pass size (MB): 0.36\n",
            "Params size (MB): 0.07\n",
            "Estimated Total Size (MB): 0.43\n",
            "----------------------------------------------------------------\n"
          ],
          "name": "stdout"
        },
        {
          "output_type": "stream",
          "text": [
            "/usr/local/lib/python3.6/dist-packages/ipykernel_launcher.py:36: UserWarning: Implicit dimension choice for log_softmax has been deprecated. Change the call to include dim=X as an argument.\n"
          ],
          "name": "stderr"
        }
      ]
    },
    {
      "cell_type": "code",
      "metadata": {
        "id": "DqTWLaM5GHgH",
        "colab_type": "code",
        "colab": {}
      },
      "source": [
        "\n",
        "\n",
        "torch.manual_seed(1)\n",
        "batch_size = 128\n",
        "\n",
        "kwargs = {'num_workers': 1, 'pin_memory': True} if use_cuda else {}\n",
        "train_loader = torch.utils.data.DataLoader(\n",
        "    datasets.MNIST('../data', train=True, download=True,\n",
        "                    transform=transforms.Compose([\n",
        "                        transforms.ToTensor(),\n",
        "                        transforms.Normalize((0.1307,), (0.3081,))\n",
        "                    ])),\n",
        "    batch_size=batch_size, shuffle=True, **kwargs)\n",
        "test_loader = torch.utils.data.DataLoader(\n",
        "    datasets.MNIST('../data', train=False, transform=transforms.Compose([\n",
        "                        transforms.ToTensor(),\n",
        "                        transforms.Normalize((0.1307,), (0.3081,))\n",
        "                    ])),\n",
        "    batch_size=batch_size, shuffle=True, **kwargs)\n"
      ],
      "execution_count": 0,
      "outputs": []
    },
    {
      "cell_type": "code",
      "metadata": {
        "id": "8fDefDhaFlwH",
        "colab_type": "code",
        "colab": {}
      },
      "source": [
        "# I am turning OFF TQDM. I don't want progress bar for this project\n",
        "# Please note that it will not affect your train/test accuracy\n",
        "#from tqdm import tqdm\n",
        "def train(model, device, train_loader, optimizer, epoch):\n",
        "    model.train()\n",
        "    #pbar = tqdm(train_loader)\n",
        "    for batch_idx, (data, target) in enumerate(train_loader):\n",
        "        data, target = data.to(device), target.to(device)\n",
        "        optimizer.zero_grad()\n",
        "        output = model(data)\n",
        "        loss = F.nll_loss(output, target)\n",
        "        loss.backward()\n",
        "        optimizer.step()\n",
        "        #pbar.set_description(desc= f'loss={loss.item()} batch_id={batch_idx}')\n",
        "\n",
        "\n",
        "def test(model, device, test_loader):\n",
        "    model.eval()\n",
        "    test_loss = 0\n",
        "    correct = 0\n",
        "    with torch.no_grad():\n",
        "        for data, target in test_loader:\n",
        "            data, target = data.to(device), target.to(device)\n",
        "            output = model(data)\n",
        "            test_loss += F.nll_loss(output, target, reduction='sum').item()  # sum up batch loss\n",
        "            pred = output.argmax(dim=1, keepdim=True)  # get the index of the max log-probability\n",
        "            correct += pred.eq(target.view_as(pred)).sum().item()\n",
        "\n",
        "    test_loss /= len(test_loader.dataset)\n",
        "\n",
        "    print('\\nTest set: Average loss: {:.4f}, Accuracy: {}/{} ({:.2f}%)\\n'.format(\n",
        "        test_loss, correct, len(test_loader.dataset),\n",
        "        100. * correct / len(test_loader.dataset)))"
      ],
      "execution_count": 0,
      "outputs": []
    },
    {
      "cell_type": "code",
      "metadata": {
        "id": "MMWbLWO6FuHb",
        "colab_type": "code",
        "outputId": "556ba593-bc9c-4d6d-be54-43b23b62fea7",
        "colab": {
          "base_uri": "https://localhost:8080/",
          "height": 1000
        }
      },
      "source": [
        "\n",
        "model = Net().to(device)\n",
        "optimizer = optim.SGD(model.parameters(), lr=0.01, momentum=0.9)\n",
        "\n",
        "for epoch in range(1, 20):\n",
        "    train(model, device, train_loader, optimizer, epoch)\n",
        "    test(model, device, test_loader)"
      ],
      "execution_count": 80,
      "outputs": [
        {
          "output_type": "stream",
          "text": [
            "/usr/local/lib/python3.6/dist-packages/ipykernel_launcher.py:36: UserWarning: Implicit dimension choice for log_softmax has been deprecated. Change the call to include dim=X as an argument.\n"
          ],
          "name": "stderr"
        },
        {
          "output_type": "stream",
          "text": [
            "\n",
            "Test set: Average loss: 0.0575, Accuracy: 9810/10000 (98.10%)\n",
            "\n",
            "\n",
            "Test set: Average loss: 0.0420, Accuracy: 9854/10000 (98.54%)\n",
            "\n",
            "\n",
            "Test set: Average loss: 0.0317, Accuracy: 9899/10000 (98.99%)\n",
            "\n",
            "\n",
            "Test set: Average loss: 0.0295, Accuracy: 9893/10000 (98.93%)\n",
            "\n",
            "\n",
            "Test set: Average loss: 0.0290, Accuracy: 9901/10000 (99.01%)\n",
            "\n",
            "\n",
            "Test set: Average loss: 0.0230, Accuracy: 9918/10000 (99.18%)\n",
            "\n",
            "\n",
            "Test set: Average loss: 0.0233, Accuracy: 9927/10000 (99.27%)\n",
            "\n",
            "\n",
            "Test set: Average loss: 0.0226, Accuracy: 9927/10000 (99.27%)\n",
            "\n",
            "\n",
            "Test set: Average loss: 0.0221, Accuracy: 9926/10000 (99.26%)\n",
            "\n",
            "\n",
            "Test set: Average loss: 0.0232, Accuracy: 9923/10000 (99.23%)\n",
            "\n",
            "\n",
            "Test set: Average loss: 0.0244, Accuracy: 9925/10000 (99.25%)\n",
            "\n",
            "\n",
            "Test set: Average loss: 0.0214, Accuracy: 9932/10000 (99.32%)\n",
            "\n",
            "\n",
            "Test set: Average loss: 0.0204, Accuracy: 9939/10000 (99.39%)\n",
            "\n",
            "\n",
            "Test set: Average loss: 0.0209, Accuracy: 9935/10000 (99.35%)\n",
            "\n",
            "\n",
            "Test set: Average loss: 0.0231, Accuracy: 9935/10000 (99.35%)\n",
            "\n",
            "\n",
            "Test set: Average loss: 0.0204, Accuracy: 9942/10000 (99.42%)\n",
            "\n",
            "\n",
            "Test set: Average loss: 0.0197, Accuracy: 9938/10000 (99.38%)\n",
            "\n",
            "\n",
            "Test set: Average loss: 0.0222, Accuracy: 9930/10000 (99.30%)\n",
            "\n",
            "\n",
            "Test set: Average loss: 0.0204, Accuracy: 9930/10000 (99.30%)\n",
            "\n"
          ],
          "name": "stdout"
        }
      ]
    },
    {
      "cell_type": "code",
      "metadata": {
        "id": "So5uk4EkHW6R",
        "colab_type": "code",
        "colab": {}
      },
      "source": [
        ""
      ],
      "execution_count": 0,
      "outputs": []
    }
  ]
}